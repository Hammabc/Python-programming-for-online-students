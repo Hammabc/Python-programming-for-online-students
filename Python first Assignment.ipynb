{
 "cells": [
  {
   "cell_type": "code",
   "execution_count": 1,
   "metadata": {},
   "outputs": [
    {
     "name": "stdout",
     "output_type": "stream",
     "text": [
      "Twinkle, twinkle, little star,\n"
     ]
    }
   ],
   "source": [
    "print(\"Twinkle,\"+\" \" \"twinkle,\" +\" \" \"little star,\")"
   ]
  },
  {
   "cell_type": "code",
   "execution_count": 2,
   "metadata": {},
   "outputs": [
    {
     "name": "stdout",
     "output_type": "stream",
     "text": [
      "How I wonder what you are!\n"
     ]
    }
   ],
   "source": [
    "print(\"How I wonder what you are!\")"
   ]
  },
  {
   "cell_type": "code",
   "execution_count": 3,
   "metadata": {},
   "outputs": [
    {
     "name": "stdout",
     "output_type": "stream",
     "text": [
      "UP above the wolrd so high,\n"
     ]
    }
   ],
   "source": [
    "print(\"UP above the wolrd so high,\")"
   ]
  },
  {
   "cell_type": "code",
   "execution_count": 4,
   "metadata": {},
   "outputs": [
    {
     "name": "stdout",
     "output_type": "stream",
     "text": [
      "Like a diamond in the sky\n"
     ]
    }
   ],
   "source": [
    "print(\"Like a diamond in the sky\")"
   ]
  },
  {
   "cell_type": "code",
   "execution_count": 5,
   "metadata": {},
   "outputs": [
    {
     "name": "stdout",
     "output_type": "stream",
     "text": [
      "Twinkle, twinkle, little star,\n"
     ]
    }
   ],
   "source": [
    "print(\"Twinkle,\"+\" \" \"twinkle,\" +\" \" \"little star,\")"
   ]
  },
  {
   "cell_type": "code",
   "execution_count": 6,
   "metadata": {},
   "outputs": [
    {
     "name": "stdout",
     "output_type": "stream",
     "text": [
      "How I wonder what you are\n"
     ]
    }
   ],
   "source": [
    "print(\"How I wonder what you are\")"
   ]
  },
  {
   "cell_type": "code",
   "execution_count": 7,
   "metadata": {},
   "outputs": [
    {
     "name": "stdout",
     "output_type": "stream",
     "text": [
      "python version\n",
      "3.7.4 (default, Aug  9 2019, 18:34:13) [MSC v.1915 64 bit (AMD64)]\n"
     ]
    }
   ],
   "source": [
    "import sys\n",
    "print(\"python version\")\n",
    "print(sys.version)\n"
   ]
  },
  {
   "cell_type": "code",
   "execution_count": 8,
   "metadata": {},
   "outputs": [
    {
     "name": "stdout",
     "output_type": "stream",
     "text": [
      "2019-11-04\n"
     ]
    }
   ],
   "source": [
    "from datetime import date\n",
    "todayDate=date.today()\n",
    "print(todayDate)"
   ]
  },
  {
   "cell_type": "code",
   "execution_count": 9,
   "metadata": {},
   "outputs": [
    {
     "name": "stdout",
     "output_type": "stream",
     "text": [
      "2019-11-04 17:01:38.199836\n"
     ]
    }
   ],
   "source": [
    "from datetime import datetime\n",
    "todayTime=datetime.now()\n",
    "print(todayTime)"
   ]
  },
  {
   "cell_type": "code",
   "execution_count": 10,
   "metadata": {},
   "outputs": [
    {
     "name": "stdout",
     "output_type": "stream",
     "text": [
      "Enter the value of radius =3\n",
      "28.278\n"
     ]
    }
   ],
   "source": [
    "r=int(input(\"Enter the value of radius\"+ \" \"\"=\"))\n",
    "a=3.142*r**2\n",
    "print(a)            "
   ]
  },
  {
   "cell_type": "code",
   "execution_count": 11,
   "metadata": {},
   "outputs": [
    {
     "name": "stdout",
     "output_type": "stream",
     "text": [
      "Enter your first name:Hammad\n",
      "Enter your last name:Hussain\n",
      "Hussain Hammad\n"
     ]
    }
   ],
   "source": [
    "firstName=input(\"Enter your first name:\" +\"\")\n",
    "lastName=input(\"Enter your last name:\" +\"\")\n",
    "reverseName=lastName+\" \"+firstName\n",
    "print(reverseName)"
   ]
  },
  {
   "cell_type": "code",
   "execution_count": 12,
   "metadata": {},
   "outputs": [
    {
     "name": "stdout",
     "output_type": "stream",
     "text": [
      "Enter first input:23\n",
      "Enter second input:45\n",
      "68\n"
     ]
    }
   ],
   "source": [
    "firstInput=int(input(\"Enter first input:\" +\"\"))\n",
    "secondInput=int(input(\"Enter second input:\" +\"\"))\n",
    "addition=firstInput+secondInput\n",
    "print(addition)"
   ]
  },
  {
   "cell_type": "code",
   "execution_count": null,
   "metadata": {},
   "outputs": [],
   "source": []
  }
 ],
 "metadata": {
  "kernelspec": {
   "display_name": "Python 3",
   "language": "python",
   "name": "python3"
  },
  "language_info": {
   "codemirror_mode": {
    "name": "ipython",
    "version": 3
   },
   "file_extension": ".py",
   "mimetype": "text/x-python",
   "name": "python",
   "nbconvert_exporter": "python",
   "pygments_lexer": "ipython3",
   "version": "3.7.4"
  }
 },
 "nbformat": 4,
 "nbformat_minor": 2
}
